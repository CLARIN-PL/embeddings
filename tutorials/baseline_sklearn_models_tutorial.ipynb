{
 "cells": [
  {
   "cell_type": "markdown",
   "source": [],
   "metadata": {
    "collapsed": false,
    "pycharm": {
     "name": "#%% md\n"
    }
   }
  },
  {
   "cell_type": "markdown",
   "source": [
    "This notebook's purpose is to show how to use the sklearn-like models pipeline for text classification."
   ],
   "metadata": {
    "collapsed": false
   }
  },
  {
   "cell_type": "markdown",
   "metadata": {},
   "source": [
    "The pipeline trains a selected classifier on a selected dataset, training a specified vectorizer previously. Then, it computes the text classification evaluation metrics and saves them in a JSON file in a specified path."
   ]
  },
  {
   "cell_type": "markdown",
   "metadata": {},
   "source": [
    "Apart from the \"SklearnClassificationPipeline\" class, all you need to import is a selected sklearn-like classifier and any sklearn vectorizer, like CountVectorizer or TfidfVectorizer."
   ]
  },
  {
   "cell_type": "code",
   "execution_count": 1,
   "metadata": {
    "pycharm": {
     "name": "#%%\n"
    }
   },
   "outputs": [],
   "source": [
    "import warnings\n",
    "\n",
    "warnings.filterwarnings(\"ignore\")\n",
    "\n",
    "from sklearn.feature_extraction.text import TfidfVectorizer\n",
    "from sklearn.svm import SVC\n",
    "from sklearn.ensemble import AdaBoostClassifier\n",
    "from xgboost.sklearn import XGBClassifier\n",
    "\n",
    "from embeddings.pipeline.sklearn_classification import SklearnClassificationPipeline"
   ]
  },
  {
   "cell_type": "markdown",
   "metadata": {},
   "source": [
    "Variables you need to pass to the SklearnClassificationPipeline class:\n",
    "- __dataset kwargs__: name of the dataset and names of X and Y columns, respectively. You can pass them to the class from a dict, like in all examples below, or directly.\n",
    "- __output_path__: a path where you want a file with evaluation metrics saved.\n",
    "\n",
    "The remaining elements are optional. Note that arguments __\"embeddings_kwargs\"__ and __\"classifier_kwargs\"__ are passed to the class __without \"**\"__.\n",
    "In this notebook we are using the POLEMO2 dataset - the details about it can be found [here](https://huggingface.co/datasets/clarin-pl/polemo2-official)."
   ]
  },
  {
   "cell_type": "code",
   "execution_count": 2,
   "metadata": {
    "pycharm": {
     "name": "#%%\n"
    }
   },
   "outputs": [],
   "source": [
    "embeddings_kwargs = {\n",
    "    \"max_features\": 10000,\n",
    "    \"max_df\": 10\n",
    "}\n",
    "\n",
    "classifier_kwargs = {\n",
    "    \"n_estimators\": 100\n",
    "}\n",
    "\n",
    "evaluation_filename = \"adaboost_tfidf_evaluation.json\"  #default name: evaluation_filename.json\n",
    "output_path = \".\"\n",
    "\n",
    "adaboost_tfidf_pipeline = SklearnClassificationPipeline(\n",
    "    dataset_name=\"clarin-pl/polemo2-official\",\n",
    "    input_column_name=\"text\",\n",
    "    target_column_name=\"target\",\n",
    "    output_path=output_path,\n",
    "    classifier=AdaBoostClassifier,\n",
    "    vectorizer=TfidfVectorizer,\n",
    "    evaluation_filename=evaluation_filename,\n",
    "    classifier_kwargs=classifier_kwargs,\n",
    "    embedding_kwargs=embeddings_kwargs\n",
    ")"
   ]
  },
  {
   "cell_type": "code",
   "execution_count": 3,
   "metadata": {
    "pycharm": {
     "name": "#%%\n"
    }
   },
   "outputs": [
    {
     "name": "stderr",
     "output_type": "stream",
     "text": [
      "No config specified, defaulting to: pol_emo2/all_text\n",
      "Reusing dataset pol_emo2 (/Users/mariuszkossakowski/.cache/huggingface/datasets/clarin-pl___pol_emo2/all_text/0.0.0/2b75fdbe5def97538e81fb120f8752744b50729a4ce09bd75132bfc863a2fd70)\n"
     ]
    },
    {
     "data": {
      "text/plain": "  0%|          | 0/3 [00:00<?, ?it/s]",
      "application/vnd.jupyter.widget-view+json": {
       "version_major": 2,
       "version_minor": 0,
       "model_id": "dc56916a82174d328c01fcf05b16f177"
      }
     },
     "metadata": {},
     "output_type": "display_data"
    },
    {
     "name": "stdout",
     "output_type": "stream",
     "text": [
      "TextClassificationEvaluationResults(accuracy=0.4585365853658537, f1_macro=0.27053544591867407, f1_micro=0.4585365853658537, f1_weighted=0.3190341090580814, recall_macro=0.3325333733313334, recall_micro=0.4585365853658537, recall_weighted=0.4585365853658537, precision_macro=0.3090909090909091, precision_micro=0.4585365853658537, precision_weighted=0.2955210643015521, classes={0: {'precision': 0.8, 'recall': 0.3389830508474576, 'f1': 0.47619047619047616, 'support': 118}, 1: {'precision': 0.43636363636363634, 'recall': 0.9911504424778761, 'f1': 0.60595130748422, 'support': 339}, 2: {'precision': 0.0, 'recall': 0.0, 'f1': 0.0, 'support': 227}, 3: {'precision': 0.0, 'recall': 0.0, 'f1': 0.0, 'support': 136}}, data=Predictions(y_pred=array([1, 1, 1, 1, 1, 0, 0, 1, 1, 1, 1, 0, 1, 1, 1, 1, 1, 1, 1, 1, 1, 1,\n",
      "       1, 1, 1, 1, 1, 1, 1, 1, 1, 1, 1, 1, 1, 1, 1, 1, 1, 1, 1, 1, 1, 1,\n",
      "       1, 1, 1, 0, 1, 1, 1, 1, 1, 1, 1, 1, 1, 1, 1, 1, 1, 1, 1, 1, 0, 1,\n",
      "       1, 1, 1, 1, 1, 1, 1, 1, 1, 1, 1, 1, 1, 0, 1, 1, 1, 1, 1, 1, 0, 1,\n",
      "       1, 1, 1, 1, 1, 1, 1, 1, 1, 1, 1, 1, 1, 0, 1, 1, 1, 1, 1, 1, 1, 1,\n",
      "       1, 1, 1, 1, 1, 1, 1, 1, 0, 1, 1, 1, 1, 1, 1, 1, 1, 1, 1, 0, 1, 1,\n",
      "       1, 1, 1, 1, 1, 1, 1, 0, 1, 1, 1, 1, 1, 1, 1, 1, 1, 1, 1, 1, 1, 1,\n",
      "       1, 1, 1, 1, 1, 1, 1, 1, 1, 1, 1, 1, 1, 0, 1, 1, 1, 1, 1, 1, 1, 1,\n",
      "       1, 1, 1, 1, 1, 1, 1, 0, 1, 1, 1, 1, 1, 1, 1, 1, 1, 1, 1, 1, 1, 1,\n",
      "       0, 1, 1, 1, 1, 1, 1, 1, 1, 1, 1, 1, 1, 1, 1, 1, 1, 1, 1, 1, 1, 1,\n",
      "       1, 1, 1, 1, 1, 1, 1, 1, 1, 1, 1, 1, 1, 1, 1, 1, 1, 1, 1, 1, 1, 1,\n",
      "       1, 1, 1, 1, 1, 1, 1, 1, 1, 1, 1, 1, 1, 1, 1, 0, 1, 1, 1, 0, 1, 1,\n",
      "       1, 1, 1, 1, 1, 1, 1, 1, 0, 1, 1, 1, 1, 1, 1, 1, 1, 1, 1, 1, 1, 1,\n",
      "       0, 1, 1, 1, 1, 1, 1, 1, 1, 0, 1, 1, 1, 1, 1, 0, 1, 1, 1, 1, 1, 1,\n",
      "       1, 1, 1, 0, 1, 0, 1, 1, 1, 1, 1, 0, 1, 1, 1, 1, 1, 1, 1, 1, 1, 0,\n",
      "       1, 1, 1, 0, 1, 1, 1, 1, 1, 1, 0, 1, 1, 1, 1, 1, 1, 1, 1, 1, 1, 1,\n",
      "       1, 1, 1, 1, 1, 1, 1, 1, 1, 1, 1, 1, 1, 1, 1, 1, 1, 1, 1, 1, 1, 1,\n",
      "       1, 1, 1, 1, 1, 1, 1, 1, 1, 1, 1, 1, 1, 1, 1, 1, 1, 1, 1, 1, 1, 1,\n",
      "       1, 1, 1, 0, 1, 1, 1, 1, 1, 1, 1, 1, 1, 1, 1, 1, 1, 1, 1, 1, 1, 1,\n",
      "       1, 1, 1, 1, 1, 1, 1, 1, 1, 1, 1, 1, 1, 1, 1, 1, 1, 1, 1, 1, 1, 0,\n",
      "       1, 1, 1, 1, 1, 1, 1, 1, 1, 1, 1, 1, 1, 1, 1, 1, 0, 1, 1, 1, 1, 1,\n",
      "       1, 1, 1, 1, 1, 1, 1, 1, 1, 1, 1, 0, 1, 1, 1, 1, 1, 1, 1, 1, 0, 1,\n",
      "       1, 1, 0, 1, 1, 1, 1, 0, 1, 1, 1, 1, 1, 1, 1, 1, 1, 1, 1, 1, 1, 1,\n",
      "       1, 1, 1, 0, 1, 1, 1, 0, 1, 1, 1, 1, 1, 1, 1, 0, 1, 1, 1, 1, 1, 1,\n",
      "       1, 1, 1, 1, 1, 1, 1, 1, 1, 1, 1, 1, 1, 1, 1, 1, 1, 1, 1, 1, 0, 1,\n",
      "       1, 1, 1, 1, 1, 1, 1, 1, 1, 1, 1, 1, 1, 1, 1, 1, 1, 1, 1, 1, 1, 1,\n",
      "       1, 1, 1, 1, 1, 1, 1, 0, 1, 1, 1, 1, 1, 1, 1, 1, 1, 1, 1, 1, 1, 1,\n",
      "       1, 1, 1, 0, 1, 1, 1, 1, 1, 1, 1, 1, 1, 1, 1, 1, 1, 1, 1, 1, 1, 1,\n",
      "       1, 1, 1, 1, 1, 1, 1, 1, 1, 1, 1, 1, 1, 0, 1, 1, 1, 1, 1, 1, 1, 1,\n",
      "       1, 1, 1, 1, 1, 1, 0, 1, 1, 1, 1, 1, 1, 1, 1, 1, 1, 1, 1, 1, 1, 1,\n",
      "       1, 1, 1, 1, 1, 1, 1, 1, 1, 1, 1, 1, 1, 1, 1, 1, 1, 1, 1, 1, 1, 1,\n",
      "       1, 1, 1, 1, 1, 1, 1, 1, 1, 1, 0, 1, 1, 1, 1, 1, 1, 1, 1, 1, 1, 1,\n",
      "       1, 1, 1, 1, 1, 1, 1, 1, 0, 1, 1, 0, 1, 1, 1, 1, 1, 1, 1, 1, 1, 1,\n",
      "       0, 1, 1, 1, 1, 1, 0, 1, 1, 1, 1, 1, 1, 1, 1, 1, 1, 1, 1, 1, 1, 1,\n",
      "       1, 1, 1, 0, 1, 1, 1, 1, 1, 1, 1, 1, 0, 1, 1, 1, 1, 1, 1, 1, 1, 1,\n",
      "       1, 1, 1, 1, 1, 1, 1, 1, 1, 1, 1, 1, 1, 1, 1, 1, 1, 1, 1, 0, 0, 1,\n",
      "       1, 1, 1, 1, 1, 1, 1, 1, 1, 1, 1, 1, 1, 1, 1, 1, 1, 1, 1, 1, 1, 1,\n",
      "       1, 1, 1, 1, 1, 1]), y_true=array([1, 2, 2, 2, 2, 0, 0, 0, 1, 3, 1, 0, 2, 2, 2, 1, 1, 1, 1, 3, 3, 2,\n",
      "       2, 3, 1, 2, 1, 1, 1, 1, 3, 2, 2, 1, 1, 3, 2, 1, 1, 2, 2, 1, 1, 2,\n",
      "       0, 1, 1, 0, 1, 1, 2, 0, 2, 2, 1, 2, 2, 1, 2, 1, 0, 3, 3, 1, 0, 3,\n",
      "       0, 1, 0, 2, 2, 1, 1, 1, 1, 2, 1, 2, 2, 0, 2, 1, 1, 1, 1, 2, 3, 3,\n",
      "       2, 3, 1, 2, 2, 2, 1, 1, 2, 1, 3, 2, 1, 0, 1, 1, 2, 3, 3, 2, 2, 3,\n",
      "       1, 1, 1, 3, 1, 0, 2, 1, 0, 3, 0, 3, 3, 1, 2, 1, 1, 1, 2, 0, 2, 2,\n",
      "       1, 1, 0, 2, 1, 3, 3, 0, 2, 1, 1, 2, 1, 2, 1, 0, 1, 1, 1, 0, 1, 1,\n",
      "       1, 1, 2, 2, 2, 1, 0, 3, 1, 1, 1, 2, 3, 0, 1, 2, 1, 1, 1, 0, 1, 1,\n",
      "       3, 0, 1, 3, 1, 1, 0, 2, 2, 2, 1, 1, 2, 3, 1, 2, 2, 2, 1, 1, 2, 1,\n",
      "       0, 3, 2, 3, 1, 0, 2, 1, 2, 3, 0, 2, 0, 0, 1, 1, 0, 1, 1, 2, 1, 1,\n",
      "       1, 1, 3, 1, 1, 2, 2, 1, 1, 2, 2, 3, 2, 3, 1, 3, 1, 3, 1, 3, 2, 3,\n",
      "       2, 2, 2, 3, 1, 1, 1, 1, 2, 2, 2, 3, 1, 2, 1, 0, 2, 2, 2, 0, 1, 1,\n",
      "       1, 3, 0, 1, 3, 2, 3, 1, 0, 1, 3, 3, 2, 3, 1, 1, 1, 2, 1, 2, 0, 1,\n",
      "       0, 3, 2, 1, 2, 2, 1, 2, 2, 2, 1, 1, 2, 2, 1, 0, 2, 1, 2, 1, 1, 3,\n",
      "       3, 2, 3, 0, 3, 0, 1, 0, 3, 0, 3, 0, 1, 1, 1, 3, 1, 3, 1, 3, 0, 0,\n",
      "       1, 1, 3, 0, 2, 0, 1, 2, 2, 0, 1, 1, 3, 2, 1, 2, 3, 3, 2, 3, 2, 2,\n",
      "       1, 0, 2, 1, 1, 1, 1, 1, 1, 3, 3, 3, 2, 1, 1, 3, 2, 1, 3, 2, 0, 1,\n",
      "       2, 1, 1, 2, 2, 1, 2, 2, 0, 1, 1, 2, 2, 2, 0, 3, 1, 1, 0, 1, 1, 0,\n",
      "       2, 3, 0, 0, 0, 2, 3, 1, 1, 1, 3, 2, 1, 1, 1, 1, 1, 1, 1, 2, 0, 1,\n",
      "       2, 1, 2, 1, 3, 3, 2, 1, 1, 1, 0, 3, 3, 0, 1, 1, 3, 2, 1, 2, 3, 0,\n",
      "       2, 0, 1, 3, 1, 1, 2, 2, 2, 1, 1, 3, 1, 3, 1, 1, 0, 1, 1, 2, 1, 2,\n",
      "       1, 2, 1, 2, 1, 2, 2, 0, 0, 2, 2, 0, 1, 3, 1, 1, 2, 2, 2, 1, 3, 1,\n",
      "       1, 3, 0, 2, 0, 1, 1, 0, 2, 1, 1, 1, 1, 1, 0, 1, 1, 2, 1, 1, 3, 1,\n",
      "       0, 2, 2, 0, 1, 2, 0, 0, 1, 2, 1, 1, 1, 1, 2, 2, 1, 0, 3, 1, 2, 1,\n",
      "       3, 2, 1, 2, 1, 1, 0, 0, 1, 1, 1, 1, 3, 0, 3, 2, 2, 2, 3, 2, 0, 3,\n",
      "       1, 2, 1, 0, 2, 3, 1, 1, 0, 1, 3, 1, 0, 1, 2, 3, 1, 1, 3, 3, 1, 1,\n",
      "       0, 1, 0, 3, 1, 3, 1, 0, 2, 1, 2, 2, 1, 2, 1, 2, 1, 2, 2, 1, 2, 1,\n",
      "       2, 1, 0, 0, 0, 1, 1, 2, 1, 1, 1, 0, 2, 3, 2, 0, 3, 2, 2, 1, 3, 2,\n",
      "       2, 1, 1, 3, 2, 2, 3, 2, 1, 1, 3, 1, 1, 0, 1, 1, 2, 0, 1, 1, 1, 1,\n",
      "       1, 2, 1, 2, 3, 3, 3, 2, 2, 3, 2, 1, 1, 0, 1, 1, 1, 2, 2, 3, 2, 1,\n",
      "       1, 0, 2, 1, 2, 1, 1, 3, 2, 1, 1, 1, 1, 1, 2, 1, 0, 2, 1, 2, 3, 1,\n",
      "       2, 3, 1, 1, 1, 2, 1, 2, 0, 1, 0, 3, 2, 3, 2, 1, 1, 3, 1, 1, 0, 1,\n",
      "       2, 3, 1, 3, 1, 1, 3, 1, 1, 3, 0, 0, 3, 2, 3, 1, 2, 1, 0, 2, 0, 2,\n",
      "       1, 1, 3, 1, 2, 3, 0, 1, 1, 3, 1, 0, 3, 2, 1, 1, 3, 2, 2, 1, 1, 1,\n",
      "       1, 3, 1, 0, 2, 0, 0, 1, 3, 3, 1, 3, 0, 1, 1, 0, 2, 0, 3, 1, 1, 2,\n",
      "       1, 2, 1, 1, 3, 1, 3, 3, 1, 1, 1, 1, 0, 1, 2, 2, 2, 1, 2, 0, 2, 2,\n",
      "       2, 1, 1, 2, 1, 2, 2, 1, 3, 0, 0, 3, 1, 1, 2, 1, 3, 0, 0, 2, 3, 2,\n",
      "       2, 0, 1, 3, 2, 2]), y_probabilities=None, names=None))\n"
     ]
    }
   ],
   "source": [
    "adaboost_tfidf_result = adaboost_tfidf_pipeline.run()\n",
    "print(adaboost_tfidf_result)"
   ]
  },
  {
   "cell_type": "code",
   "execution_count": 4,
   "metadata": {
    "pycharm": {
     "name": "#%%\n"
    }
   },
   "outputs": [],
   "source": [
    "svm_kwargs = {\n",
    "    \"kernel\": \"linear\",\n",
    "    \"C\": 0.6\n",
    "}\n",
    "\n",
    "evaluation_filename_svm_tdidf = \"svm_tfidf_evaluation.json\"\n",
    "\n",
    "svm_tfidf_pipeline = SklearnClassificationPipeline(\n",
    "    dataset_name=\"clarin-pl/polemo2-official\",\n",
    "    input_column_name=\"text\",\n",
    "    target_column_name=\"target\",\n",
    "    output_path=output_path,\n",
    "    classifier=SVC,\n",
    "    vectorizer=TfidfVectorizer,\n",
    "    evaluation_filename=evaluation_filename_svm_tdidf,\n",
    "    classifier_kwargs=svm_kwargs,\n",
    "    embedding_kwargs=embeddings_kwargs\n",
    ")"
   ]
  },
  {
   "cell_type": "code",
   "execution_count": 5,
   "metadata": {
    "pycharm": {
     "name": "#%%\n"
    }
   },
   "outputs": [
    {
     "name": "stderr",
     "output_type": "stream",
     "text": [
      "No config specified, defaulting to: pol_emo2/all_text\n",
      "Reusing dataset pol_emo2 (/Users/mariuszkossakowski/.cache/huggingface/datasets/clarin-pl___pol_emo2/all_text/0.0.0/2b75fdbe5def97538e81fb120f8752744b50729a4ce09bd75132bfc863a2fd70)\n"
     ]
    },
    {
     "data": {
      "text/plain": "  0%|          | 0/3 [00:00<?, ?it/s]",
      "application/vnd.jupyter.widget-view+json": {
       "version_major": 2,
       "version_minor": 0,
       "model_id": "7ba1877b204b4af998d139510338c930"
      }
     },
     "metadata": {},
     "output_type": "display_data"
    },
    {
     "name": "stdout",
     "output_type": "stream",
     "text": [
      "TextClassificationEvaluationResults(accuracy=0.6292682926829268, f1_macro=0.538089503921292, f1_micro=0.6292682926829268, f1_weighted=0.5821659059932924, recall_macro=0.5331545169631904, recall_micro=0.6292682926829268, recall_weighted=0.6292682926829268, precision_macro=0.6747768805779856, precision_micro=0.6292682926829268, precision_weighted=0.6410225313472854, classes={0: {'precision': 1.0, 'recall': 0.6101694915254238, 'f1': 0.7578947368421053, 'support': 118}, 1: {'precision': 0.570902394106814, 'recall': 0.9144542772861357, 'f1': 0.7029478458049886, 'support': 339}, 2: {'precision': 0.6666666666666666, 'recall': 0.5638766519823789, 'f1': 0.6109785202863962, 'support': 227}, 3: {'precision': 0.46153846153846156, 'recall': 0.04411764705882353, 'f1': 0.08053691275167787, 'support': 136}}, data=Predictions(y_pred=array([1, 2, 2, 2, 3, 0, 0, 0, 1, 1, 1, 1, 2, 1, 1, 1, 1, 1, 1, 1, 1, 2,\n",
      "       2, 1, 1, 2, 1, 1, 1, 1, 1, 1, 2, 2, 1, 1, 1, 1, 1, 1, 2, 1, 2, 2,\n",
      "       1, 1, 1, 0, 1, 1, 2, 0, 1, 2, 1, 2, 2, 1, 1, 1, 0, 1, 2, 1, 0, 1,\n",
      "       1, 1, 2, 2, 2, 1, 2, 1, 1, 1, 1, 2, 2, 0, 1, 2, 2, 1, 1, 1, 1, 2,\n",
      "       1, 1, 1, 1, 1, 2, 1, 1, 2, 1, 2, 2, 1, 0, 1, 1, 2, 1, 1, 3, 2, 1,\n",
      "       1, 1, 1, 1, 1, 0, 1, 1, 0, 2, 1, 1, 1, 1, 1, 1, 1, 1, 2, 0, 1, 1,\n",
      "       1, 1, 2, 2, 1, 2, 1, 0, 2, 1, 1, 1, 1, 2, 1, 1, 1, 1, 1, 0, 1, 1,\n",
      "       1, 2, 2, 2, 2, 1, 0, 1, 1, 1, 1, 2, 1, 0, 1, 3, 1, 2, 1, 2, 1, 1,\n",
      "       1, 1, 1, 1, 2, 1, 0, 1, 2, 1, 1, 2, 2, 1, 1, 3, 1, 2, 1, 1, 2, 1,\n",
      "       0, 1, 1, 1, 1, 0, 1, 1, 1, 3, 0, 1, 1, 0, 1, 2, 0, 1, 1, 1, 2, 1,\n",
      "       1, 1, 1, 1, 1, 2, 2, 1, 1, 2, 1, 2, 2, 2, 1, 2, 1, 1, 1, 2, 1, 2,\n",
      "       1, 1, 1, 2, 1, 1, 2, 1, 2, 2, 2, 1, 1, 2, 1, 0, 2, 2, 1, 0, 1, 1,\n",
      "       1, 1, 0, 1, 1, 2, 2, 1, 0, 1, 2, 1, 2, 1, 1, 1, 1, 1, 1, 2, 1, 1,\n",
      "       0, 1, 1, 1, 2, 2, 1, 1, 2, 1, 1, 1, 1, 2, 2, 0, 2, 1, 2, 1, 1, 1,\n",
      "       1, 2, 1, 1, 1, 0, 1, 1, 1, 1, 2, 0, 1, 1, 2, 1, 1, 1, 1, 1, 2, 0,\n",
      "       1, 1, 1, 1, 1, 1, 1, 2, 2, 0, 1, 2, 1, 2, 1, 2, 1, 1, 2, 1, 1, 1,\n",
      "       1, 0, 1, 1, 1, 1, 1, 1, 1, 1, 1, 1, 2, 1, 1, 1, 1, 1, 2, 1, 0, 1,\n",
      "       2, 1, 1, 2, 2, 1, 1, 2, 1, 1, 1, 1, 2, 2, 0, 1, 1, 1, 0, 2, 1, 0,\n",
      "       1, 2, 0, 0, 2, 2, 1, 1, 1, 1, 1, 1, 1, 1, 1, 1, 1, 1, 1, 1, 0, 1,\n",
      "       2, 1, 1, 1, 2, 1, 1, 1, 1, 1, 0, 1, 1, 0, 1, 1, 1, 2, 1, 2, 1, 1,\n",
      "       2, 2, 1, 1, 1, 1, 1, 1, 1, 1, 1, 1, 1, 1, 1, 1, 2, 1, 1, 2, 1, 2,\n",
      "       1, 2, 1, 2, 1, 2, 1, 1, 0, 1, 2, 0, 1, 1, 1, 1, 2, 1, 1, 1, 1, 1,\n",
      "       1, 1, 0, 1, 1, 1, 1, 0, 2, 1, 1, 1, 1, 1, 1, 1, 1, 1, 1, 1, 3, 1,\n",
      "       1, 2, 2, 0, 2, 2, 0, 0, 1, 2, 1, 1, 1, 1, 1, 2, 1, 0, 1, 1, 2, 1,\n",
      "       3, 2, 1, 2, 1, 1, 0, 1, 1, 1, 1, 1, 3, 1, 1, 1, 2, 3, 1, 1, 0, 1,\n",
      "       1, 2, 1, 1, 2, 1, 1, 1, 1, 1, 1, 2, 3, 1, 2, 1, 1, 1, 1, 2, 1, 1,\n",
      "       1, 1, 0, 1, 1, 1, 2, 0, 2, 1, 2, 1, 1, 2, 1, 2, 1, 2, 1, 1, 2, 1,\n",
      "       2, 1, 1, 0, 1, 1, 1, 2, 1, 1, 2, 1, 1, 1, 2, 2, 3, 1, 2, 1, 1, 1,\n",
      "       1, 1, 1, 2, 1, 1, 1, 1, 1, 1, 1, 1, 1, 0, 1, 1, 2, 0, 1, 1, 2, 1,\n",
      "       1, 2, 1, 1, 1, 2, 1, 1, 2, 1, 1, 1, 1, 0, 2, 1, 1, 1, 1, 1, 1, 1,\n",
      "       2, 0, 2, 1, 3, 1, 1, 1, 2, 1, 1, 1, 1, 1, 1, 2, 1, 1, 1, 2, 2, 1,\n",
      "       2, 1, 1, 1, 1, 1, 1, 2, 0, 1, 0, 1, 2, 3, 2, 1, 2, 1, 1, 2, 1, 1,\n",
      "       2, 1, 1, 1, 1, 1, 1, 1, 1, 1, 0, 0, 1, 1, 1, 2, 1, 1, 1, 2, 1, 2,\n",
      "       1, 1, 2, 1, 1, 1, 1, 1, 1, 1, 1, 0, 1, 1, 1, 1, 1, 1, 2, 1, 1, 1,\n",
      "       1, 1, 1, 0, 2, 0, 1, 1, 1, 1, 1, 1, 0, 1, 1, 1, 2, 0, 1, 1, 1, 2,\n",
      "       1, 1, 2, 1, 1, 1, 2, 2, 1, 1, 1, 1, 2, 1, 1, 1, 2, 1, 1, 0, 2, 2,\n",
      "       2, 2, 1, 1, 1, 2, 1, 1, 2, 2, 1, 1, 1, 1, 2, 1, 1, 0, 0, 1, 1, 2,\n",
      "       1, 0, 1, 1, 2, 2]), y_true=array([1, 2, 2, 2, 2, 0, 0, 0, 1, 3, 1, 0, 2, 2, 2, 1, 1, 1, 1, 3, 3, 2,\n",
      "       2, 3, 1, 2, 1, 1, 1, 1, 3, 2, 2, 1, 1, 3, 2, 1, 1, 2, 2, 1, 1, 2,\n",
      "       0, 1, 1, 0, 1, 1, 2, 0, 2, 2, 1, 2, 2, 1, 2, 1, 0, 3, 3, 1, 0, 3,\n",
      "       0, 1, 0, 2, 2, 1, 1, 1, 1, 2, 1, 2, 2, 0, 2, 1, 1, 1, 1, 2, 3, 3,\n",
      "       2, 3, 1, 2, 2, 2, 1, 1, 2, 1, 3, 2, 1, 0, 1, 1, 2, 3, 3, 2, 2, 3,\n",
      "       1, 1, 1, 3, 1, 0, 2, 1, 0, 3, 0, 3, 3, 1, 2, 1, 1, 1, 2, 0, 2, 2,\n",
      "       1, 1, 0, 2, 1, 3, 3, 0, 2, 1, 1, 2, 1, 2, 1, 0, 1, 1, 1, 0, 1, 1,\n",
      "       1, 1, 2, 2, 2, 1, 0, 3, 1, 1, 1, 2, 3, 0, 1, 2, 1, 1, 1, 0, 1, 1,\n",
      "       3, 0, 1, 3, 1, 1, 0, 2, 2, 2, 1, 1, 2, 3, 1, 2, 2, 2, 1, 1, 2, 1,\n",
      "       0, 3, 2, 3, 1, 0, 2, 1, 2, 3, 0, 2, 0, 0, 1, 1, 0, 1, 1, 2, 1, 1,\n",
      "       1, 1, 3, 1, 1, 2, 2, 1, 1, 2, 2, 3, 2, 3, 1, 3, 1, 3, 1, 3, 2, 3,\n",
      "       2, 2, 2, 3, 1, 1, 1, 1, 2, 2, 2, 3, 1, 2, 1, 0, 2, 2, 2, 0, 1, 1,\n",
      "       1, 3, 0, 1, 3, 2, 3, 1, 0, 1, 3, 3, 2, 3, 1, 1, 1, 2, 1, 2, 0, 1,\n",
      "       0, 3, 2, 1, 2, 2, 1, 2, 2, 2, 1, 1, 2, 2, 1, 0, 2, 1, 2, 1, 1, 3,\n",
      "       3, 2, 3, 0, 3, 0, 1, 0, 3, 0, 3, 0, 1, 1, 1, 3, 1, 3, 1, 3, 0, 0,\n",
      "       1, 1, 3, 0, 2, 0, 1, 2, 2, 0, 1, 1, 3, 2, 1, 2, 3, 3, 2, 3, 2, 2,\n",
      "       1, 0, 2, 1, 1, 1, 1, 1, 1, 3, 3, 3, 2, 1, 1, 3, 2, 1, 3, 2, 0, 1,\n",
      "       2, 1, 1, 2, 2, 1, 2, 2, 0, 1, 1, 2, 2, 2, 0, 3, 1, 1, 0, 1, 1, 0,\n",
      "       2, 3, 0, 0, 0, 2, 3, 1, 1, 1, 3, 2, 1, 1, 1, 1, 1, 1, 1, 2, 0, 1,\n",
      "       2, 1, 2, 1, 3, 3, 2, 1, 1, 1, 0, 3, 3, 0, 1, 1, 3, 2, 1, 2, 3, 0,\n",
      "       2, 0, 1, 3, 1, 1, 2, 2, 2, 1, 1, 3, 1, 3, 1, 1, 0, 1, 1, 2, 1, 2,\n",
      "       1, 2, 1, 2, 1, 2, 2, 0, 0, 2, 2, 0, 1, 3, 1, 1, 2, 2, 2, 1, 3, 1,\n",
      "       1, 3, 0, 2, 0, 1, 1, 0, 2, 1, 1, 1, 1, 1, 0, 1, 1, 2, 1, 1, 3, 1,\n",
      "       0, 2, 2, 0, 1, 2, 0, 0, 1, 2, 1, 1, 1, 1, 2, 2, 1, 0, 3, 1, 2, 1,\n",
      "       3, 2, 1, 2, 1, 1, 0, 0, 1, 1, 1, 1, 3, 0, 3, 2, 2, 2, 3, 2, 0, 3,\n",
      "       1, 2, 1, 0, 2, 3, 1, 1, 0, 1, 3, 1, 0, 1, 2, 3, 1, 1, 3, 3, 1, 1,\n",
      "       0, 1, 0, 3, 1, 3, 1, 0, 2, 1, 2, 2, 1, 2, 1, 2, 1, 2, 2, 1, 2, 1,\n",
      "       2, 1, 0, 0, 0, 1, 1, 2, 1, 1, 1, 0, 2, 3, 2, 0, 3, 2, 2, 1, 3, 2,\n",
      "       2, 1, 1, 3, 2, 2, 3, 2, 1, 1, 3, 1, 1, 0, 1, 1, 2, 0, 1, 1, 1, 1,\n",
      "       1, 2, 1, 2, 3, 3, 3, 2, 2, 3, 2, 1, 1, 0, 1, 1, 1, 2, 2, 3, 2, 1,\n",
      "       1, 0, 2, 1, 2, 1, 1, 3, 2, 1, 1, 1, 1, 1, 2, 1, 0, 2, 1, 2, 3, 1,\n",
      "       2, 3, 1, 1, 1, 2, 1, 2, 0, 1, 0, 3, 2, 3, 2, 1, 1, 3, 1, 1, 0, 1,\n",
      "       2, 3, 1, 3, 1, 1, 3, 1, 1, 3, 0, 0, 3, 2, 3, 1, 2, 1, 0, 2, 0, 2,\n",
      "       1, 1, 3, 1, 2, 3, 0, 1, 1, 3, 1, 0, 3, 2, 1, 1, 3, 2, 2, 1, 1, 1,\n",
      "       1, 3, 1, 0, 2, 0, 0, 1, 3, 3, 1, 3, 0, 1, 1, 0, 2, 0, 3, 1, 1, 2,\n",
      "       1, 2, 1, 1, 3, 1, 3, 3, 1, 1, 1, 1, 0, 1, 2, 2, 2, 1, 2, 0, 2, 2,\n",
      "       2, 1, 1, 2, 1, 2, 2, 1, 3, 0, 0, 3, 1, 1, 2, 1, 3, 0, 0, 2, 3, 2,\n",
      "       2, 0, 1, 3, 2, 2]), y_probabilities=None, names=None))\n"
     ]
    }
   ],
   "source": [
    "svm_tfidf_result = svm_tfidf_pipeline.run()\n",
    "print(svm_tfidf_result)"
   ]
  },
  {
   "cell_type": "code",
   "execution_count": 6,
   "metadata": {
    "pycharm": {
     "name": "#%%\n"
    }
   },
   "outputs": [],
   "source": [
    "embeddings_kwargs = {\n",
    "    \"max_features\": 10000\n",
    "}\n",
    "\n",
    "xgb_kwargs = {\n",
    "    \"n_estimators\": 200,\n",
    "    \"max_depth\": 7\n",
    "}\n",
    "\n",
    "evaluation_filename_xgb_tdidf = \"xgb_tfidf_evaluation.json\"\n",
    "\n",
    "xgb_tfidf_pipeline = SklearnClassificationPipeline(\n",
    "    dataset_name=\"clarin-pl/polemo2-official\",\n",
    "    input_column_name=\"text\",\n",
    "    target_column_name=\"target\",\n",
    "    output_path=output_path,\n",
    "    classifier=XGBClassifier,\n",
    "    vectorizer=TfidfVectorizer,\n",
    "    evaluation_filename=evaluation_filename_xgb_tdidf,\n",
    "    classifier_kwargs=xgb_kwargs,\n",
    "    embedding_kwargs=embeddings_kwargs\n",
    ")"
   ]
  },
  {
   "cell_type": "code",
   "execution_count": 7,
   "metadata": {
    "pycharm": {
     "name": "#%%\n"
    }
   },
   "outputs": [
    {
     "name": "stderr",
     "output_type": "stream",
     "text": [
      "No config specified, defaulting to: pol_emo2/all_text\n",
      "Reusing dataset pol_emo2 (/Users/mariuszkossakowski/.cache/huggingface/datasets/clarin-pl___pol_emo2/all_text/0.0.0/2b75fdbe5def97538e81fb120f8752744b50729a4ce09bd75132bfc863a2fd70)\n"
     ]
    },
    {
     "data": {
      "text/plain": "  0%|          | 0/3 [00:00<?, ?it/s]",
      "application/vnd.jupyter.widget-view+json": {
       "version_major": 2,
       "version_minor": 0,
       "model_id": "50a2c8e31e264d1fab42ebb200b0d941"
      }
     },
     "metadata": {},
     "output_type": "display_data"
    },
    {
     "name": "stdout",
     "output_type": "stream",
     "text": [
      "[14:44:59] WARNING: /Users/runner/work/xgboost/xgboost/src/learner.cc:1115: Starting in XGBoost 1.3.0, the default evaluation metric used with the objective 'multi:softprob' was changed from 'merror' to 'mlogloss'. Explicitly set eval_metric if you'd like to restore the old behavior.\n"
     ]
    },
    {
     "name": "stderr",
     "output_type": "stream",
     "text": [
      "No config specified, defaulting to: pol_emo2/all_text\n",
      "Reusing dataset pol_emo2 (/Users/mariuszkossakowski/.cache/huggingface/datasets/clarin-pl___pol_emo2/all_text/0.0.0/2b75fdbe5def97538e81fb120f8752744b50729a4ce09bd75132bfc863a2fd70)\n"
     ]
    },
    {
     "data": {
      "text/plain": "  0%|          | 0/3 [00:00<?, ?it/s]",
      "application/vnd.jupyter.widget-view+json": {
       "version_major": 2,
       "version_minor": 0,
       "model_id": "e05aa544793149fd88f38f786c27d1dd"
      }
     },
     "metadata": {},
     "output_type": "display_data"
    },
    {
     "name": "stdout",
     "output_type": "stream",
     "text": [
      "[14:58:35] WARNING: /Users/runner/work/xgboost/xgboost/src/learner.cc:1115: Starting in XGBoost 1.3.0, the default evaluation metric used with the objective 'multi:softprob' was changed from 'merror' to 'mlogloss'. Explicitly set eval_metric if you'd like to restore the old behavior.\n",
      "TextClassificationEvaluationResults(accuracy=0.7573170731707317, f1_macro=0.7383632851951776, f1_micro=0.7573170731707317, f1_weighted=0.7531105273460682, recall_macro=0.7279708041839421, recall_micro=0.7573170731707317, recall_weighted=0.7573170731707317, precision_macro=0.7527270564328854, precision_micro=0.7573170731707317, precision_weighted=0.7526286151229844, classes={0: {'precision': 0.9722222222222222, 'recall': 0.8898305084745762, 'f1': 0.9292035398230089, 'support': 118}, 1: {'precision': 0.7745358090185677, 'recall': 0.8613569321533924, 'f1': 0.8156424581005588, 'support': 339}, 2: {'precision': 0.746606334841629, 'recall': 0.7268722466960352, 'f1': 0.7366071428571428, 'support': 227}, 3: {'precision': 0.5175438596491229, 'recall': 0.4338235294117647, 'f1': 0.47200000000000003, 'support': 136}}, data=Predictions(y_pred=array([1, 3, 2, 2, 3, 0, 0, 0, 1, 3, 1, 0, 2, 2, 2, 1, 1, 1, 1, 1, 1, 2,\n",
      "       2, 3, 1, 2, 1, 1, 1, 1, 1, 1, 2, 1, 1, 3, 2, 3, 1, 1, 2, 1, 1, 3,\n",
      "       0, 1, 1, 0, 1, 1, 2, 0, 2, 2, 1, 2, 2, 1, 2, 2, 2, 3, 3, 2, 0, 1,\n",
      "       0, 1, 0, 2, 2, 1, 2, 1, 1, 2, 1, 2, 2, 0, 2, 3, 1, 1, 1, 2, 1, 1,\n",
      "       3, 1, 0, 1, 2, 3, 1, 1, 2, 1, 3, 2, 3, 0, 1, 1, 2, 3, 2, 2, 2, 3,\n",
      "       1, 1, 1, 3, 1, 0, 2, 1, 0, 3, 0, 2, 3, 1, 2, 1, 1, 2, 2, 0, 2, 2,\n",
      "       1, 1, 0, 2, 1, 2, 1, 0, 2, 1, 1, 3, 1, 2, 1, 0, 1, 1, 1, 0, 1, 1,\n",
      "       1, 1, 2, 2, 2, 1, 0, 3, 1, 1, 1, 3, 3, 0, 1, 1, 1, 1, 1, 2, 1, 1,\n",
      "       3, 0, 1, 1, 1, 1, 0, 1, 2, 1, 1, 1, 2, 3, 1, 1, 2, 2, 1, 1, 2, 1,\n",
      "       0, 2, 2, 1, 1, 0, 1, 1, 2, 3, 0, 2, 0, 0, 1, 1, 0, 1, 1, 2, 1, 1,\n",
      "       1, 1, 1, 2, 1, 2, 1, 1, 1, 3, 1, 2, 2, 3, 1, 1, 3, 2, 1, 1, 2, 3,\n",
      "       2, 1, 3, 3, 1, 1, 3, 2, 2, 2, 2, 3, 1, 2, 3, 0, 2, 2, 3, 0, 1, 1,\n",
      "       1, 3, 0, 1, 1, 2, 1, 1, 0, 1, 3, 2, 1, 1, 1, 1, 1, 3, 1, 3, 1, 3,\n",
      "       0, 3, 2, 1, 2, 2, 1, 3, 2, 2, 1, 1, 2, 3, 1, 0, 2, 1, 2, 1, 2, 3,\n",
      "       3, 3, 1, 0, 1, 0, 1, 0, 3, 0, 3, 0, 2, 1, 1, 3, 1, 1, 1, 2, 2, 0,\n",
      "       1, 1, 3, 0, 2, 0, 1, 3, 2, 0, 2, 1, 3, 1, 1, 2, 1, 1, 2, 1, 2, 2,\n",
      "       1, 0, 2, 1, 1, 0, 1, 1, 1, 3, 2, 3, 2, 1, 1, 1, 2, 1, 3, 2, 0, 3,\n",
      "       2, 1, 2, 1, 2, 1, 2, 2, 1, 3, 1, 2, 2, 1, 0, 3, 1, 1, 0, 1, 1, 0,\n",
      "       2, 3, 0, 0, 0, 2, 3, 1, 1, 3, 3, 2, 1, 3, 1, 1, 1, 1, 1, 3, 0, 1,\n",
      "       2, 3, 2, 1, 3, 2, 2, 1, 1, 1, 0, 1, 3, 0, 1, 1, 1, 2, 1, 2, 2, 0,\n",
      "       1, 0, 1, 2, 1, 1, 2, 2, 1, 1, 1, 3, 1, 1, 1, 1, 0, 1, 3, 3, 1, 2,\n",
      "       1, 3, 1, 3, 1, 2, 2, 0, 0, 2, 2, 0, 1, 2, 2, 1, 3, 2, 3, 1, 1, 1,\n",
      "       1, 2, 0, 3, 0, 1, 1, 0, 2, 1, 3, 1, 1, 1, 0, 1, 1, 2, 1, 2, 2, 1,\n",
      "       0, 1, 2, 0, 3, 2, 0, 0, 1, 2, 1, 3, 1, 2, 3, 2, 2, 0, 3, 1, 2, 1,\n",
      "       2, 2, 1, 2, 1, 1, 0, 2, 1, 1, 1, 1, 2, 1, 2, 1, 2, 3, 1, 2, 2, 2,\n",
      "       1, 2, 1, 0, 2, 2, 1, 1, 0, 1, 2, 1, 0, 1, 2, 1, 3, 1, 1, 2, 1, 1,\n",
      "       0, 1, 2, 1, 1, 3, 2, 0, 2, 1, 3, 1, 1, 2, 1, 2, 1, 2, 3, 1, 2, 1,\n",
      "       1, 1, 0, 0, 0, 3, 1, 2, 1, 1, 1, 0, 2, 1, 2, 0, 1, 3, 2, 1, 3, 2,\n",
      "       2, 2, 3, 2, 2, 1, 1, 2, 1, 1, 2, 1, 1, 0, 1, 3, 1, 0, 1, 1, 3, 3,\n",
      "       1, 0, 2, 2, 3, 2, 1, 1, 2, 1, 2, 1, 1, 0, 1, 1, 1, 2, 3, 2, 2, 1,\n",
      "       2, 0, 2, 1, 1, 1, 1, 3, 2, 1, 1, 1, 1, 1, 2, 1, 0, 2, 1, 2, 1, 1,\n",
      "       2, 3, 1, 1, 1, 2, 1, 2, 0, 1, 0, 1, 2, 1, 2, 1, 1, 1, 1, 2, 0, 1,\n",
      "       2, 1, 1, 1, 2, 1, 3, 2, 1, 1, 0, 0, 3, 2, 1, 1, 2, 1, 0, 3, 1, 2,\n",
      "       1, 1, 3, 1, 1, 3, 0, 1, 1, 3, 1, 0, 3, 2, 1, 1, 3, 2, 2, 1, 1, 1,\n",
      "       1, 3, 1, 0, 2, 0, 1, 2, 2, 1, 1, 1, 0, 1, 1, 0, 2, 0, 3, 1, 1, 2,\n",
      "       1, 1, 1, 1, 3, 1, 3, 3, 1, 3, 1, 1, 0, 1, 2, 2, 2, 1, 2, 0, 2, 3,\n",
      "       2, 1, 1, 2, 1, 2, 1, 1, 2, 1, 1, 3, 1, 1, 2, 1, 1, 0, 0, 2, 1, 2,\n",
      "       3, 0, 1, 1, 2, 1]), y_true=array([1, 2, 2, 2, 2, 0, 0, 0, 1, 3, 1, 0, 2, 2, 2, 1, 1, 1, 1, 3, 3, 2,\n",
      "       2, 3, 1, 2, 1, 1, 1, 1, 3, 2, 2, 1, 1, 3, 2, 1, 1, 2, 2, 1, 1, 2,\n",
      "       0, 1, 1, 0, 1, 1, 2, 0, 2, 2, 1, 2, 2, 1, 2, 1, 0, 3, 3, 1, 0, 3,\n",
      "       0, 1, 0, 2, 2, 1, 1, 1, 1, 2, 1, 2, 2, 0, 2, 1, 1, 1, 1, 2, 3, 3,\n",
      "       2, 3, 1, 2, 2, 2, 1, 1, 2, 1, 3, 2, 1, 0, 1, 1, 2, 3, 3, 2, 2, 3,\n",
      "       1, 1, 1, 3, 1, 0, 2, 1, 0, 3, 0, 3, 3, 1, 2, 1, 1, 1, 2, 0, 2, 2,\n",
      "       1, 1, 0, 2, 1, 3, 3, 0, 2, 1, 1, 2, 1, 2, 1, 0, 1, 1, 1, 0, 1, 1,\n",
      "       1, 1, 2, 2, 2, 1, 0, 3, 1, 1, 1, 2, 3, 0, 1, 2, 1, 1, 1, 0, 1, 1,\n",
      "       3, 0, 1, 3, 1, 1, 0, 2, 2, 2, 1, 1, 2, 3, 1, 2, 2, 2, 1, 1, 2, 1,\n",
      "       0, 3, 2, 3, 1, 0, 2, 1, 2, 3, 0, 2, 0, 0, 1, 1, 0, 1, 1, 2, 1, 1,\n",
      "       1, 1, 3, 1, 1, 2, 2, 1, 1, 2, 2, 3, 2, 3, 1, 3, 1, 3, 1, 3, 2, 3,\n",
      "       2, 2, 2, 3, 1, 1, 1, 1, 2, 2, 2, 3, 1, 2, 1, 0, 2, 2, 2, 0, 1, 1,\n",
      "       1, 3, 0, 1, 3, 2, 3, 1, 0, 1, 3, 3, 2, 3, 1, 1, 1, 2, 1, 2, 0, 1,\n",
      "       0, 3, 2, 1, 2, 2, 1, 2, 2, 2, 1, 1, 2, 2, 1, 0, 2, 1, 2, 1, 1, 3,\n",
      "       3, 2, 3, 0, 3, 0, 1, 0, 3, 0, 3, 0, 1, 1, 1, 3, 1, 3, 1, 3, 0, 0,\n",
      "       1, 1, 3, 0, 2, 0, 1, 2, 2, 0, 1, 1, 3, 2, 1, 2, 3, 3, 2, 3, 2, 2,\n",
      "       1, 0, 2, 1, 1, 1, 1, 1, 1, 3, 3, 3, 2, 1, 1, 3, 2, 1, 3, 2, 0, 1,\n",
      "       2, 1, 1, 2, 2, 1, 2, 2, 0, 1, 1, 2, 2, 2, 0, 3, 1, 1, 0, 1, 1, 0,\n",
      "       2, 3, 0, 0, 0, 2, 3, 1, 1, 1, 3, 2, 1, 1, 1, 1, 1, 1, 1, 2, 0, 1,\n",
      "       2, 1, 2, 1, 3, 3, 2, 1, 1, 1, 0, 3, 3, 0, 1, 1, 3, 2, 1, 2, 3, 0,\n",
      "       2, 0, 1, 3, 1, 1, 2, 2, 2, 1, 1, 3, 1, 3, 1, 1, 0, 1, 1, 2, 1, 2,\n",
      "       1, 2, 1, 2, 1, 2, 2, 0, 0, 2, 2, 0, 1, 3, 1, 1, 2, 2, 2, 1, 3, 1,\n",
      "       1, 3, 0, 2, 0, 1, 1, 0, 2, 1, 1, 1, 1, 1, 0, 1, 1, 2, 1, 1, 3, 1,\n",
      "       0, 2, 2, 0, 1, 2, 0, 0, 1, 2, 1, 1, 1, 1, 2, 2, 1, 0, 3, 1, 2, 1,\n",
      "       3, 2, 1, 2, 1, 1, 0, 0, 1, 1, 1, 1, 3, 0, 3, 2, 2, 2, 3, 2, 0, 3,\n",
      "       1, 2, 1, 0, 2, 3, 1, 1, 0, 1, 3, 1, 0, 1, 2, 3, 1, 1, 3, 3, 1, 1,\n",
      "       0, 1, 0, 3, 1, 3, 1, 0, 2, 1, 2, 2, 1, 2, 1, 2, 1, 2, 2, 1, 2, 1,\n",
      "       2, 1, 0, 0, 0, 1, 1, 2, 1, 1, 1, 0, 2, 3, 2, 0, 3, 2, 2, 1, 3, 2,\n",
      "       2, 1, 1, 3, 2, 2, 3, 2, 1, 1, 3, 1, 1, 0, 1, 1, 2, 0, 1, 1, 1, 1,\n",
      "       1, 2, 1, 2, 3, 3, 3, 2, 2, 3, 2, 1, 1, 0, 1, 1, 1, 2, 2, 3, 2, 1,\n",
      "       1, 0, 2, 1, 2, 1, 1, 3, 2, 1, 1, 1, 1, 1, 2, 1, 0, 2, 1, 2, 3, 1,\n",
      "       2, 3, 1, 1, 1, 2, 1, 2, 0, 1, 0, 3, 2, 3, 2, 1, 1, 3, 1, 1, 0, 1,\n",
      "       2, 3, 1, 3, 1, 1, 3, 1, 1, 3, 0, 0, 3, 2, 3, 1, 2, 1, 0, 2, 0, 2,\n",
      "       1, 1, 3, 1, 2, 3, 0, 1, 1, 3, 1, 0, 3, 2, 1, 1, 3, 2, 2, 1, 1, 1,\n",
      "       1, 3, 1, 0, 2, 0, 0, 1, 3, 3, 1, 3, 0, 1, 1, 0, 2, 0, 3, 1, 1, 2,\n",
      "       1, 2, 1, 1, 3, 1, 3, 3, 1, 1, 1, 1, 0, 1, 2, 2, 2, 1, 2, 0, 2, 2,\n",
      "       2, 1, 1, 2, 1, 2, 2, 1, 3, 0, 0, 3, 1, 1, 2, 1, 3, 0, 0, 2, 3, 2,\n",
      "       2, 0, 1, 3, 2, 2]), y_probabilities=None, names=None))\n"
     ]
    }
   ],
   "source": [
    "xgb_tfidf_result = xgb_tfidf_pipeline.run()\n",
    "print(xgb_tfidf_pipeline.run())"
   ]
  },
  {
   "cell_type": "code",
   "execution_count": 8,
   "outputs": [],
   "source": [
    "import matplotlib.pyplot as plt\n",
    "import seaborn as sns\n",
    "import pandas as pd"
   ],
   "metadata": {
    "collapsed": false,
    "pycharm": {
     "name": "#%%\n"
    }
   }
  },
  {
   "cell_type": "code",
   "execution_count": 11,
   "outputs": [],
   "source": [
    "methods = [\"AdaBoost\", \"SVM\", \"XGBoost\"]\n",
    "f1_scores = [adaboost_tfidf_result.f1_macro, svm_tfidf_result.f1_macro,\n",
    "             xgb_tfidf_result.f1_macro]\n",
    "results_df = pd.DataFrame(data={\"method\": methods, \"f1\": f1_scores})"
   ],
   "metadata": {
    "collapsed": false,
    "pycharm": {
     "name": "#%%\n"
    }
   }
  },
  {
   "cell_type": "code",
   "execution_count": 12,
   "outputs": [
    {
     "data": {
      "text/plain": "<Figure size 720x720 with 1 Axes>",
      "image/png": "[encoded data removed]"
     },
     "metadata": {
      "needs_background": "light"
     },
     "output_type": "display_data"
    }
   ],
   "source": [
    "plt.figure(figsize=(10, 10))\n",
    "sns.barplot(data=results_df, x=\"method\", y=\"f1\")\n",
    "plt.title(\"F1 scores for three different classifiers\", fontsize=16)\n",
    "plt.show()"
   ],
   "metadata": {
    "collapsed": false,
    "pycharm": {
     "name": "#%%\n"
    }
   }
  },
  {
   "cell_type": "markdown",
   "source": [
    "In this very simple experiment, the XGBoost turned out to be the best. Its way to learn basing on gradients of previous classifiers could be decisive."
   ],
   "metadata": {
    "collapsed": false,
    "pycharm": {
     "name": "#%% md\n"
    }
   }
  }
 ],
 "metadata": {
  "kernelspec": {
   "display_name": "Python 3 (ipykernel)",
   "language": "python",
   "name": "python3"
  },
  "language_info": {
   "codemirror_mode": {
    "name": "ipython",
    "version": 3
   },
   "file_extension": ".py",
   "mimetype": "text/x-python",
   "name": "python",
   "nbconvert_exporter": "python",
   "pygments_lexer": "ipython3",
   "version": "3.9.0"
  }
 },
 "nbformat": 4,
 "nbformat_minor": 1
}
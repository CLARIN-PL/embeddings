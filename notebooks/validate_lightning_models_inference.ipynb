{
 "cells": [
  {
   "cell_type": "code",
   "execution_count": null,
   "id": "3d3ac2b5-06e8-46bc-a626-9384a35920e5",
   "metadata": {},
   "outputs": [],
   "source": [
    "%load_ext autoreload\n",
    "%autoreload 2"
   ]
  },
  {
   "cell_type": "code",
   "execution_count": null,
   "id": "1019b750-cebe-438b-b1ab-434d6f756864",
   "metadata": {},
   "outputs": [],
   "source": [
    "import os\n",
    "\n",
    "os.chdir(\"..\")\n",
    "\n",
    "from pathlib import Path\n",
    "from tempfile import TemporaryDirectory\n",
    "\n",
    "import pytorch_lightning as pl\n",
    "import torch\n",
    "from embeddings.defaults import RESULTS_PATH\n",
    "from embeddings.task.lightning_task.text_classification import TextClassificationTask\n",
    "from embeddings.model.lightning_module.text_classification import (\n",
    "    TextClassificationModule,\n",
    ")\n",
    "from embeddings.pipeline.lightning_classification import LightningClassificationPipeline\n",
    "from embeddings.utils.utils import build_output_path, format_eval_result"
   ]
  },
  {
   "cell_type": "markdown",
   "id": "159445cd-fb59-4964-aca2-ce9c18a8cf5e",
   "metadata": {},
   "source": [
    "### Train simple downsampled pipeline"
   ]
  },
  {
   "cell_type": "code",
   "execution_count": null,
   "id": "148a0089-f461-4948-93fa-04f2e34ac9e0",
   "metadata": {
    "tags": []
   },
   "outputs": [],
   "source": [
    "embedding_name_or_path = \"hf-internal-testing/tiny-albert\"\n",
    "dataset_name = \"clarin-pl/polemo2-official\"\n",
    "input_columns_name = \"text\"\n",
    "target_column_name = \"target\"\n",
    "# path = TemporaryDirectory()\n",
    "# output_path = path.name\n",
    "output_path = \".\"\n",
    "\n",
    "pipeline = LightningClassificationPipeline(\n",
    "    embedding_name_or_path=embedding_name_or_path,\n",
    "    dataset_name_or_path=dataset_name,\n",
    "    input_column_name=input_columns_name,\n",
    "    target_column_name=target_column_name,\n",
    "    output_path=output_path,\n",
    "    finetune_last_n_layers=0,\n",
    "    load_dataset_kwargs={\n",
    "        \"train_domains\": [\"hotels\", \"medicine\"],\n",
    "        \"dev_domains\": [\"hotels\", \"medicine\"],\n",
    "        \"test_domains\": [\"hotels\", \"medicine\"],\n",
    "        \"text_cfg\": \"text\",\n",
    "    },\n",
    "    datamodule_kwargs={\"max_seq_length\": 64,},\n",
    "    task_train_kwargs={\n",
    "        \"max_epochs\": 1,\n",
    "        \"devices\": \"auto\",\n",
    "        \"accelerator\": \"cpu\",\n",
    "        \"deterministic\": True,\n",
    "    },\n",
    ")\n",
    "result = pipeline.run()"
   ]
  },
  {
   "cell_type": "markdown",
   "id": "491215dc-9960-4ad0-bc14-6d61d1fafac8",
   "metadata": {},
   "source": [
    "### Load model from chechpoint automatically generated with Trainer"
   ]
  },
  {
   "cell_type": "code",
   "execution_count": null,
   "id": "ee9e824c-00f1-45b0-9e32-1bd33f364f3a",
   "metadata": {},
   "outputs": [],
   "source": [
    "ckpt_path = (\n",
    "    Path(output_path)\n",
    "    / \"lightning_logs\"\n",
    "    / \"version_1\"\n",
    "    / \"checkpoints\"\n",
    "    / \"epoch=0-step=180.ckpt\"\n",
    ")\n",
    "ckpt_path.resolve()"
   ]
  },
  {
   "cell_type": "code",
   "execution_count": null,
   "id": "2785fcbc-1c95-4d23-807f-a14569992354",
   "metadata": {},
   "outputs": [],
   "source": [
    "task_from_ckpt = TextClassificationTask.from_checkpoint(\n",
    "    checkpoint_path=ckpt_path,\n",
    "    output_path=output_path,\n",
    "    task_train_kwargs={},\n",
    "    early_stopping_kwargs={},\n",
    ")"
   ]
  },
  {
   "cell_type": "code",
   "execution_count": null,
   "id": "3b32fd93-e43d-4c42-961e-53232bf9e02e",
   "metadata": {
    "tags": []
   },
   "outputs": [],
   "source": [
    "model_from_ckpt = TextClassificationModule.load_from_checkpoint(\n",
    "    str(ckpt_path), strict=True\n",
    ")"
   ]
  },
  {
   "cell_type": "markdown",
   "id": "a2c6e7fe-39c6-4fcb-87a1-1ed688c33adf",
   "metadata": {},
   "source": [
    "### Validate model states (because of the warning)"
   ]
  },
  {
   "cell_type": "code",
   "execution_count": null,
   "id": "80999ea5-ef59-40db-8d39-2ae02937fec8",
   "metadata": {},
   "outputs": [],
   "source": [
    "model_state_dict = pipeline.model.task.model.model.state_dict()\n",
    "model_from_ckpt_state_dict = task_from_ckpt.model.model.state_dict()"
   ]
  },
  {
   "cell_type": "code",
   "execution_count": null,
   "id": "1207eb9f-2e68-46ec-bab7-e5c8d1cb5953",
   "metadata": {},
   "outputs": [],
   "source": [
    "model_state_dict.keys() == model_from_ckpt_state_dict.keys()"
   ]
  },
  {
   "cell_type": "code",
   "execution_count": null,
   "id": "3875c361-ee96-4e79-8209-0f04e4f1f599",
   "metadata": {},
   "outputs": [],
   "source": [
    "for k in model_state_dict.keys():\n",
    "    assert torch.equal(model_state_dict[k], model_from_ckpt_state_dict[k])"
   ]
  },
  {
   "cell_type": "markdown",
   "id": "4a07428d-cdad-45bb-a92a-302b511de9dc",
   "metadata": {},
   "source": [
    "### Manually save and load the model"
   ]
  },
  {
   "cell_type": "code",
   "execution_count": null,
   "id": "c17b7792-b59a-4051-888e-c8b960bf04cc",
   "metadata": {},
   "outputs": [],
   "source": [
    "pipeline.model.task.trainer.save_checkpoint(\"example.ckpt\")\n",
    "new_model = TextClassificationModule.load_from_checkpoint(\n",
    "    checkpoint_path=\"example.ckpt\"\n",
    ")\n",
    "new_task_from_ckpt = TextClassificationTask.from_checkpoint(\n",
    "    checkpoint_path=ckpt_path,\n",
    "    output_path=output_path,\n",
    "    task_train_kwargs={},\n",
    "    early_stopping_kwargs={},\n",
    ")"
   ]
  },
  {
   "cell_type": "markdown",
   "id": "88e7a6c7-449f-4d0c-9042-a5f98aebc14b",
   "metadata": {},
   "source": [
    "### Use model from checkpoint for predictions"
   ]
  },
  {
   "cell_type": "code",
   "execution_count": null,
   "id": "4ad7b9b0-823a-4c8e-aac5-61a333558ed1",
   "metadata": {},
   "outputs": [],
   "source": [
    "test_dataloader = pipeline.datamodule.test_dataloader()\n",
    "preds = task_from_ckpt.predict(test_dataloader)"
   ]
  },
  {
   "cell_type": "code",
   "execution_count": null,
   "id": "f3afa250-2937-4aad-bb3c-172a68639892",
   "metadata": {},
   "outputs": [],
   "source": [
    "trainer = pl.Trainer()\n",
    "preds_other = trainer.predict(model_from_ckpt, dataloaders=test_dataloader)"
   ]
  }
 ],
 "metadata": {
  "kernelspec": {
   "display_name": "Python [conda env:embeddings]",
   "language": "python",
   "name": "conda-env-embeddings-py"
  },
  "language_info": {
   "codemirror_mode": {
    "name": "ipython",
    "version": 3
   },
   "file_extension": ".py",
   "mimetype": "text/x-python",
   "name": "python",
   "nbconvert_exporter": "python",
   "pygments_lexer": "ipython3",
   "version": "3.9.7"
  }
 },
 "nbformat": 4,
 "nbformat_minor": 5
}

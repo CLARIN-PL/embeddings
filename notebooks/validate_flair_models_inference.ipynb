{
 "cells": [
  {
   "cell_type": "code",
   "execution_count": null,
   "id": "418b9661-aea2-4990-8e26-e7f0e167b9b2",
   "metadata": {},
   "outputs": [],
   "source": [
    "%load_ext autoreload\n",
    "%autoreload 2"
   ]
  },
  {
   "cell_type": "code",
   "execution_count": null,
   "id": "f23bfd51-d1f4-4321-aed9-96f51b171fe9",
   "metadata": {},
   "outputs": [],
   "source": [
    "import os\n",
    "\n",
    "os.chdir(\"..\")\n",
    "\n",
    "\n",
    "from pathlib import Path\n",
    "from tempfile import TemporaryDirectory\n",
    "from typing import Any, Dict, Tuple\n",
    "\n",
    "import datasets\n",
    "import flair\n",
    "import numpy as np\n",
    "import pytest\n",
    "import torch\n",
    "from embeddings.data.data_loader import HuggingFaceDataLoader\n",
    "from embeddings.data.dataset import HuggingFaceDataset\n",
    "from embeddings.defaults import RESULTS_PATH\n",
    "from embeddings.embedding.auto_flair import AutoFlairWordEmbedding\n",
    "from embeddings.embedding.flair_embedding import FlairEmbedding\n",
    "from embeddings.evaluator.sequence_labeling_evaluator import SequenceLabelingEvaluator\n",
    "from embeddings.model.flair_model import FlairModel\n",
    "from embeddings.pipeline.standard_pipeline import StandardPipeline\n",
    "from embeddings.task.flair_task.sequence_labeling import SequenceLabeling\n",
    "from embeddings.transformation.flair_transformation.column_corpus_transformation import (\n",
    "    ColumnCorpusTransformation,\n",
    ")\n",
    "from embeddings.transformation.flair_transformation.downsample_corpus_transformation import (\n",
    "    DownsampleFlairCorpusTransformation,\n",
    ")\n",
    "from embeddings.transformation.flair_transformation.split_sample_corpus_transformation import (\n",
    "    SampleSplitsFlairCorpusTransformation,\n",
    ")\n",
    "from flair.data import Corpus\n",
    "from numpy import typing as nptyping"
   ]
  },
  {
   "cell_type": "markdown",
   "id": "5e4c2372-8314-4868-a576-8f0988aae888",
   "metadata": {},
   "source": [
    "### Run downsampled flair pipeline"
   ]
  },
  {
   "cell_type": "code",
   "execution_count": null,
   "id": "dd4fb7d6-1e81-4bea-9bd3-b4a4bec87fc9",
   "metadata": {},
   "outputs": [],
   "source": [
    "result_path = TemporaryDirectory()\n",
    "\n",
    "dataset = HuggingFaceDataset(\"clarin-pl/kpwr-ner\")\n",
    "data_loader = HuggingFaceDataLoader()\n",
    "transformation = (\n",
    "    ColumnCorpusTransformation(\"tokens\", \"ner\")\n",
    "    .then(SampleSplitsFlairCorpusTransformation(dev_fraction=0.1, seed=441))\n",
    "    .then(DownsampleFlairCorpusTransformation(percentage=0.005))\n",
    ")\n",
    "task = SequenceLabeling(\n",
    "    result_path.name,\n",
    "    hidden_size=256,\n",
    "    task_train_kwargs={\"max_epochs\": 1, \"mini_batch_size\": 256},\n",
    ")\n",
    "embedding = AutoFlairWordEmbedding.from_hub(\"allegro/herbert-base-cased\")\n",
    "model = FlairModel(embedding, task)\n",
    "evaluator = SequenceLabelingEvaluator()\n",
    "\n",
    "pipeline = StandardPipeline(dataset, data_loader, transformation, model, evaluator)"
   ]
  },
  {
   "cell_type": "code",
   "execution_count": null,
   "id": "2f69e538-332d-4278-977d-7002fe2b67bd",
   "metadata": {
    "tags": []
   },
   "outputs": [],
   "source": [
    "_ = pipeline.run()"
   ]
  },
  {
   "cell_type": "markdown",
   "id": "44613ef9-a9d4-4d5c-980c-9e0f68bc3525",
   "metadata": {},
   "source": [
    "### Load model from checkpoint"
   ]
  },
  {
   "cell_type": "code",
   "execution_count": null,
   "id": "2ffae7c5-1734-4e4a-81bd-55170a5c14ca",
   "metadata": {},
   "outputs": [],
   "source": [
    "!ls $result_path.name"
   ]
  },
  {
   "cell_type": "code",
   "execution_count": null,
   "id": "8e75f303-fb82-4cfd-9a81-5d42e994e606",
   "metadata": {},
   "outputs": [],
   "source": [
    "from flair.models import SequenceTagger\n",
    "\n",
    "trained_model = SequenceTagger.load(result_path.name + \"/final-model.pt\")"
   ]
  },
  {
   "cell_type": "markdown",
   "id": "802762c3-8246-465b-bb9c-2336134a51bd",
   "metadata": {},
   "source": [
    "### Predict for test data"
   ]
  },
  {
   "cell_type": "code",
   "execution_count": null,
   "id": "7c0fadf3-aa47-407d-ad79-e5633532eafa",
   "metadata": {
    "tags": []
   },
   "outputs": [],
   "source": [
    "loaded_data = data_loader.load(dataset)\n",
    "transformed_data = transformation.transform(loaded_data)\n",
    "test_data = transformed_data.test"
   ]
  },
  {
   "cell_type": "code",
   "execution_count": null,
   "id": "944cc964-262d-49f8-ab9f-510aba3dad7d",
   "metadata": {},
   "outputs": [],
   "source": [
    "task.remove_labels_from_data(test_data, \"predicted\")\n",
    "\n",
    "loss = trained_model.predict(\n",
    "    sentences=test_data, mini_batch_size=64, label_name=\"predicted\", return_loss=True,\n",
    ")\n",
    "\n",
    "y_pred = task.get_y(test_data, y_type=\"predicted\", y_dictionary=task.y_dictionary)\n",
    "y_true = task.get_y(test_data, task.y_type, task.y_dictionary)\n",
    "\n",
    "task.remove_labels_from_data(test_data, \"predicted\")"
   ]
  },
  {
   "cell_type": "code",
   "execution_count": null,
   "id": "5f9d6dde-601a-4d0c-bb48-e9177e7002c9",
   "metadata": {},
   "outputs": [],
   "source": [
    "_ = evaluator.evaluate({\"y_pred\": y_pred, \"y_true\": y_true})"
   ]
  }
 ],
 "metadata": {
  "kernelspec": {
   "display_name": "Python [conda env:clarinpl-embeddings]",
   "language": "python",
   "name": "conda-env-clarinpl-embeddings-py"
  },
  "language_info": {
   "codemirror_mode": {
    "name": "ipython",
    "version": 3
   },
   "file_extension": ".py",
   "mimetype": "text/x-python",
   "name": "python",
   "nbconvert_exporter": "python",
   "pygments_lexer": "ipython3",
   "version": "3.9.7"
  }
 },
 "nbformat": 4,
 "nbformat_minor": 5
}

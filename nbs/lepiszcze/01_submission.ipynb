{
 "cells": [
  {
   "cell_type": "markdown",
   "metadata": {},
   "source": [
    "# Submission\n",
    "> Submission to LEPISZCZE\n",
    "\n",
    "- title-block-banner: true"
   ]
  },
  {
   "cell_type": "code",
   "execution_count": null,
   "metadata": {},
   "outputs": [],
   "source": [
    "#| default_exp submission"
   ]
  },
  {
   "cell_type": "code",
   "execution_count": null,
   "metadata": {},
   "outputs": [],
   "source": [
    "#| hide\n",
    "from nbdev.showdoc import *"
   ]
  },
  {
   "cell_type": "code",
   "execution_count": null,
   "metadata": {},
   "outputs": [
    {
     "name": "stderr",
     "output_type": "stream",
     "text": [
      "/opt/conda/envs/embeddings/lib/python3.9/site-packages/tqdm/auto.py:22: TqdmWarning: IProgress not found. Please update jupyter and ipywidgets. See https://ipywidgets.readthedocs.io/en/stable/user_install.html\n",
      "  from .autonotebook import tqdm as notebook_tqdm\n"
     ]
    }
   ],
   "source": [
    "from pathlib import Path\n",
    "\n",
    "from embeddings.config.lightning_config import LightningBasicConfig, LightningAdvancedConfig\n",
    "from embeddings.pipeline.lightning_classification import LightningClassificationPipeline"
   ]
  },
  {
   "cell_type": "code",
   "execution_count": null,
   "metadata": {},
   "outputs": [],
   "source": [
    "import datasets\n",
    "import numpy as np\n",
    "\n",
    "from embeddings.evaluator.evaluation_results import Predictions\n",
    "from embeddings.evaluator.leaderboard import get_dataset_task\n",
    "from embeddings.evaluator.submission import AveragedSubmission\n",
    "from embeddings.utils.utils import get_installed_packages\n"
   ]
  },
  {
   "cell_type": "code",
   "execution_count": null,
   "metadata": {},
   "outputs": [
    {
     "name": "stderr",
     "output_type": "stream",
     "text": [
      "No config specified, defaulting to: polemo2-official/all_text\n",
      "Found cached dataset polemo2-official (/root/.cache/huggingface/datasets/clarin-pl___polemo2-official/all_text/0.0.0/2b75fdbe5def97538e81fb120f8752744b50729a4ce09bd75132bfc863a2fd70)\n",
      "100%|██████████| 3/3 [00:00<00:00, 47.31it/s]\n",
      "/app/embeddings/metric/hugging_face_metric.py:27: FutureWarning: load_metric is deprecated and will be removed in the next major version of datasets. Use 'evaluate.load' instead, from the new library 🤗 Evaluate: https://huggingface.co/docs/evaluate\n",
      "  datasets.load_metric(metric, **init_kwargs) if isinstance(metric, str) else metric\n"
     ]
    }
   ],
   "source": [
    "\n",
    "DATASET_NAME = \"clarin-pl/polemo2-official\"\n",
    "TARGET_COLUMN_NAME = \"target\"\n",
    "\n",
    "hparams = {\"hparam_name_1\": 0.2, \"hparam_name_2\": 0.1}  # put your hyperparameters here!\n",
    "\n",
    "dataset = datasets.load_dataset(DATASET_NAME)\n",
    "y_true = np.array(dataset[\"test\"][TARGET_COLUMN_NAME])\n",
    "# put your predictions from multiple runs below!\n",
    "predictions = [\n",
    "    Predictions(\n",
    "        y_true=y_true, y_pred=np.random.randint(low=0, high=4, size=len(y_true))\n",
    "    )\n",
    "    for _ in range(5)\n",
    "]\n",
    "\n",
    "# make sure you are running on a training env or put exported packages below!\n",
    "packages = get_installed_packages() \n",
    "submission = AveragedSubmission.from_predictions(\n",
    "    submission_name=\"your_submission_name\",  # put your submission here!\n",
    "    dataset_name=DATASET_NAME,\n",
    "    dataset_version=dataset[\"train\"].info.version.version_str,\n",
    "    embedding_name=\"your_embedding_model\",  # put your embedding name here!\n",
    "    predictions=predictions,\n",
    "    hparams=hparams,\n",
    "    packages=packages,\n",
    "    task=get_dataset_task(DATASET_NAME),\n",
    ")\n",
    "\n",
    "submission.save_json()"
   ]
  },
  {
   "cell_type": "code",
   "execution_count": null,
   "metadata": {},
   "outputs": [],
   "source": []
  }
 ],
 "metadata": {
  "kernelspec": {
   "display_name": "Python 3.10.6 64-bit",
   "language": "python",
   "name": "python3"
  }
 },
 "nbformat": 4,
 "nbformat_minor": 2
}

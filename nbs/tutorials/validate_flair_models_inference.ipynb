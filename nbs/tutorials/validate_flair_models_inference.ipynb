{
 "cells": [
  {
   "cell_type": "markdown",
   "id": "6f607b7e",
   "metadata": {},
   "source": [
    "# Model inference \n",
    "\n",
    "> How can we check if the models is trained correctly and predict with it?\n",
    "\n",
    "- title-block-banner: true"
   ]
  },
  {
   "cell_type": "code",
   "execution_count": null,
   "id": "418b9661-aea2-4990-8e26-e7f0e167b9b2",
   "metadata": {},
   "outputs": [],
   "source": [
    "%load_ext autoreload\n",
    "%autoreload 2"
   ]
  },
  {
   "cell_type": "code",
   "execution_count": null,
   "id": "f23bfd51-d1f4-4321-aed9-96f51b171fe9",
   "metadata": {},
   "outputs": [],
   "source": [
    "import os\n",
    "\n",
    "os.chdir(\"..\")\n",
    "\n",
    "from embeddings.data.data_loader import HuggingFaceDataLoader\n",
    "from embeddings.defaults import DATASET_PATH, RESULTS_PATH\n",
    "from embeddings.embedding.auto_flair import AutoFlairWordEmbedding\n",
    "from embeddings.evaluator.sequence_labeling_evaluator import SequenceLabelingEvaluator\n",
    "from embeddings.model.flair_model import FlairModel\n",
    "from embeddings.pipeline.standard_pipeline import StandardPipeline\n",
    "from embeddings.task.flair_task.sequence_labeling import SequenceLabeling\n",
    "from embeddings.transformation.flair_transformation.column_corpus_transformation import (\n",
    "    ColumnCorpusTransformation,\n",
    ")\n",
    "from embeddings.data.dataset import Dataset\n",
    "\n",
    "from embeddings.transformation.flair_transformation.downsample_corpus_transformation import (\n",
    "    DownsampleFlairCorpusTransformation,\n",
    ")\n",
    "from embeddings.transformation.flair_transformation.split_sample_corpus_transformation import (\n",
    "    SampleSplitsFlairCorpusTransformation,\n",
    ")\n",
    "from embeddings.utils.utils import build_output_path"
   ]
  },
  {
   "cell_type": "markdown",
   "id": "5e4c2372-8314-4868-a576-8f0988aae888",
   "metadata": {},
   "source": [
    "### Run downsampled flair pipeline"
   ]
  },
  {
   "cell_type": "code",
   "execution_count": null,
   "id": "dd4fb7d6-1e81-4bea-9bd3-b4a4bec87fc9",
   "metadata": {},
   "outputs": [],
   "source": [
    "embedding_name_or_path = \"clarin-pl/word2vec-kgr10\"\n",
    "dataset_name = \"clarin-pl/kpwr-ner\"\n",
    "\n",
    "output_path = build_output_path(RESULTS_PATH, embedding_name_or_path, dataset_name)\n",
    "\n",
    "dataset = Dataset(dataset_name)\n",
    "data_loader = HuggingFaceDataLoader()\n",
    "transformation = (\n",
    "    ColumnCorpusTransformation(\"tokens\", \"ner\")\n",
    "    .then(SampleSplitsFlairCorpusTransformation(dev_fraction=0.1, seed=441))\n",
    "    .then(DownsampleFlairCorpusTransformation(downsample_train=0.005, downsample_dev=0.01, downsample_test=0.01))\n",
    ")\n",
    "task = SequenceLabeling(\n",
    "    output_path,\n",
    "    hidden_size=256,\n",
    "    task_train_kwargs={\"max_epochs\": 1, \"mini_batch_size\": 64},\n",
    ")\n",
    "embedding = AutoFlairWordEmbedding.from_hub(embedding_name_or_path)\n",
    "model = FlairModel(embedding, task)\n",
    "evaluator = SequenceLabelingEvaluator()\n",
    "\n",
    "pipeline = StandardPipeline(dataset, data_loader, transformation, model, evaluator)"
   ]
  },
  {
   "cell_type": "code",
   "execution_count": null,
   "id": "2f69e538-332d-4278-977d-7002fe2b67bd",
   "metadata": {
    "tags": []
   },
   "outputs": [],
   "source": [
    "_ = pipeline.run()"
   ]
  },
  {
   "cell_type": "markdown",
   "id": "44613ef9-a9d4-4d5c-980c-9e0f68bc3525",
   "metadata": {},
   "source": [
    "### Load model from checkpoint"
   ]
  },
  {
   "cell_type": "code",
   "execution_count": null,
   "id": "2ffae7c5-1734-4e4a-81bd-55170a5c14ca",
   "metadata": {},
   "outputs": [],
   "source": [
    "!ls $output_path"
   ]
  },
  {
   "cell_type": "code",
   "execution_count": null,
   "id": "8e75f303-fb82-4cfd-9a81-5d42e994e606",
   "metadata": {},
   "outputs": [],
   "source": [
    "task_from_ckpt = SequenceLabeling.from_checkpoint(checkpoint_path=(output_path / \"final-model.pt\"), output_path=output_path)"
   ]
  },
  {
   "cell_type": "markdown",
   "id": "802762c3-8246-465b-bb9c-2336134a51bd",
   "metadata": {},
   "source": [
    "### Predict for test data"
   ]
  },
  {
   "cell_type": "code",
   "execution_count": null,
   "id": "7c0fadf3-aa47-407d-ad79-e5633532eafa",
   "metadata": {
    "tags": []
   },
   "outputs": [],
   "source": [
    "loaded_data = data_loader.load(dataset)\n",
    "transformed_data = transformation.transform(loaded_data)\n",
    "test_data = transformed_data.test"
   ]
  },
  {
   "cell_type": "code",
   "execution_count": null,
   "id": "df0d1eda-5bf0-40d7-97ed-16eab007a0f3",
   "metadata": {},
   "outputs": [],
   "source": [
    "y_pred, loss = task_from_ckpt.predict(test_data)\n",
    "y_true = task_from_ckpt.get_y(test_data, task_from_ckpt.y_type, task_from_ckpt.y_dictionary)"
   ]
  },
  {
   "cell_type": "code",
   "execution_count": null,
   "id": "5f9d6dde-601a-4d0c-bb48-e9177e7002c9",
   "metadata": {},
   "outputs": [],
   "source": [
    "evaluator.evaluate({\"y_pred\": y_pred, \"y_true\": y_true})"
   ]
  }
 ],
 "metadata": {
  "kernelspec": {
   "display_name": "Python 3.9.13 ('embeddings')",
   "language": "python",
   "name": "python3"
  },
  "language_info": {
   "codemirror_mode": {
    "name": "ipython",
    "version": 3
   },
   "file_extension": ".py",
   "mimetype": "text/x-python",
   "name": "python",
   "nbconvert_exporter": "python",
   "pygments_lexer": "ipython3",
   "version": "3.9.13"
  },
  "vscode": {
   "interpreter": {
    "hash": "86b40992624b6ecf125385760a49d2b554d653d5c84d942a6f4a5512888cc722"
   }
  }
 },
 "nbformat": 4,
 "nbformat_minor": 5
}
